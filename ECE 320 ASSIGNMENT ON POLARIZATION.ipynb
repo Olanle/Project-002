{
  "nbformat": 4,
  "nbformat_minor": 0,
  "metadata": {
    "colab": {
      "provenance": []
    },
    "kernelspec": {
      "name": "python3",
      "display_name": "Python 3"
    },
    "language_info": {
      "name": "python"
    }
  },
  "cells": [
    {
      "cell_type": "code",
      "execution_count": null,
      "metadata": {
        "id": "d0Vs4-3StMh-"
      },
      "outputs": [],
      "source": [
        "import numpy as np\n",
        "import matplotlib.pyplot as plt\n",
        "\n",
        "# Time array\n",
        "t = np.linspace(0, 2 * np.pi, 1000)\n",
        "\n",
        "# Parameters\n",
        "A = 1       # Amplitude\n",
        "ω = 1       # Angular frequency\n",
        "\n",
        "# Linear Polarization (Horizontal)\n",
        "Ex_linear = A * np.cos(ω * t)\n",
        "Ey_linear = np.zeros_like(t)\n",
        "\n",
        "# Circular Polarization (Right-handed)\n",
        "Ex_circular = A * np.cos(ω * t)\n",
        "Ey_circular = A * np.sin(ω * t)\n",
        "\n",
        "# Elliptical Polarization\n",
        "Ex_elliptical = A * np.cos(ω * t)\n",
        "Ey_elliptical = 0.5 * A * np.sin(ω * t)\n",
        "\n",
        "# Plotting\n",
        "fig, axs = plt.subplots(1, 3, figsize=(15, 4))\n",
        "fig.suptitle(\"Polarization Variants\")\n",
        "\n",
        "# Linear\n",
        "axs[0].plot(Ex_linear, Ey_linear, color='blue')\n",
        "axs[0].set_title(\"Linear Polarization\")\n",
        "axs[0].set_xlabel(\"E_x\"); axs[0].set_ylabel(\"E_y\")\n",
        "axs[0].axis('equal')\n",
        "\n",
        "# Circular\n",
        "axs[1].plot(Ex_circular, Ey_circular, color='green')\n",
        "axs[1].set_title(\"Circular Polarization\")\n",
        "axs[1].set_xlabel(\"E_x\"); axs[1].set_ylabel(\"E_y\")\n",
        "axs[1].axis('equal')\n",
        "\n",
        "# Elliptical\n",
        "axs[2].plot(Ex_elliptical, Ey_elliptical, color='red')\n",
        "axs[2].set_title(\"Elliptical Polarization\")\n",
        "axs[2].set_xlabel(\"E_x\"); axs[2].set_ylabel(\"E_y\")\n",
        "axs[2].axis('equal')\n",
        "\n",
        "plt.tight_layout()\n",
        "plt.show()\n"
      ]
    }
  ]
}